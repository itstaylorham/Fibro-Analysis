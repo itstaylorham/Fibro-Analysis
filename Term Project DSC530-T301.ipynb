{
 "cells": [
  {
   "cell_type": "markdown",
   "id": "7e4bc753",
   "metadata": {},
   "source": [
    "Data Exploration and Analysis | DSC-530 T301 <br>\n",
    "Jeremy Barton <br>\n",
    "07.04.2025"
   ]
  },
  {
   "cell_type": "markdown",
   "id": "51f4d430",
   "metadata": {},
   "source": [
    "<b>Appendix</b>\n",
    "\n",
    "[Introduction](#introduction)\n",
    "\n",
    "[Data Preparation](#data-preparation)"
   ]
  },
  {
   "cell_type": "markdown",
   "id": "21e02050",
   "metadata": {},
   "source": [
    "## Introduction"
   ]
  },
  {
   "cell_type": "markdown",
   "id": "708ebe7b",
   "metadata": {},
   "source": [
    "### Data Preparation"
   ]
  },
  {
   "cell_type": "markdown",
   "id": "57be44c1",
   "metadata": {},
   "source": [
    "Checking the shape of this dataset"
   ]
  },
  {
   "cell_type": "code",
   "execution_count": null,
   "id": "f0814c14",
   "metadata": {},
   "outputs": [
    {
     "ename": "NameError",
     "evalue": "name 'csi_question' is not defined",
     "output_type": "error",
     "traceback": [
      "\u001b[31m---------------------------------------------------------------------------\u001b[39m",
      "\u001b[31mNameError\u001b[39m                                 Traceback (most recent call last)",
      "\u001b[36mCell\u001b[39m\u001b[36m \u001b[39m\u001b[32mIn[46]\u001b[39m\u001b[32m, line 10\u001b[39m\n\u001b[32m      7\u001b[39m \u001b[38;5;66;03m# Create CSI dataset from fibro_dataset.csv\u001b[39;00m\n\u001b[32m      8\u001b[39m csi_data = fibro_df[[\u001b[33m'\u001b[39m\u001b[33mGroup (0 = Control, 1 = Fibromyalgia)\u001b[39m\u001b[33m'\u001b[39m,\u001b[33m'\u001b[39m\u001b[33mSEX (0 = Male, 1 = Female)\u001b[39m\u001b[33m'\u001b[39m,\u001b[33m'\u001b[39m\u001b[33mAge\u001b[39m\u001b[33m'\u001b[39m,\u001b[33m'\u001b[39m\u001b[33mSES\u001b[39m\u001b[33m'\u001b[39m,\u001b[33m'\u001b[39m\u001b[33mCSI1\u001b[39m\u001b[33m'\u001b[39m,\u001b[33m'\u001b[39m\u001b[33mCSI2\u001b[39m\u001b[33m'\u001b[39m,\u001b[33m'\u001b[39m\u001b[33mCSI3\u001b[39m\u001b[33m'\u001b[39m,\u001b[33m'\u001b[39m\u001b[33mCSI4\u001b[39m\u001b[33m'\u001b[39m,\u001b[33m'\u001b[39m\u001b[33mCSI5\u001b[39m\u001b[33m'\u001b[39m,\u001b[33m'\u001b[39m\u001b[33mCSI6\u001b[39m\u001b[33m'\u001b[39m,\u001b[33m'\u001b[39m\u001b[33mCSI7\u001b[39m\u001b[33m'\u001b[39m,\u001b[33m'\u001b[39m\u001b[33mCSI8\u001b[39m\u001b[33m'\u001b[39m,\u001b[33m'\u001b[39m\u001b[33mCSI9\u001b[39m\u001b[33m'\u001b[39m,\u001b[33m'\u001b[39m\u001b[33mCSI10\u001b[39m\u001b[33m'\u001b[39m,\u001b[33m'\u001b[39m\u001b[33mCSI11\u001b[39m\u001b[33m'\u001b[39m,\u001b[33m'\u001b[39m\u001b[33mCSI12\u001b[39m\u001b[33m'\u001b[39m,\u001b[33m'\u001b[39m\u001b[33mCSI13\u001b[39m\u001b[33m'\u001b[39m,\u001b[33m'\u001b[39m\u001b[33mCSI14\u001b[39m\u001b[33m'\u001b[39m,\u001b[33m'\u001b[39m\u001b[33mCSI15\u001b[39m\u001b[33m'\u001b[39m,\u001b[33m'\u001b[39m\u001b[33mCSI16\u001b[39m\u001b[33m'\u001b[39m,\u001b[33m'\u001b[39m\u001b[33mCSI17\u001b[39m\u001b[33m'\u001b[39m,\u001b[33m'\u001b[39m\u001b[33mCSI18\u001b[39m\u001b[33m'\u001b[39m,\u001b[33m'\u001b[39m\u001b[33mCSI19\u001b[39m\u001b[33m'\u001b[39m,\u001b[33m'\u001b[39m\u001b[33mCSI20\u001b[39m\u001b[33m'\u001b[39m,\u001b[33m'\u001b[39m\u001b[33mCSI21\u001b[39m\u001b[33m'\u001b[39m,\u001b[33m'\u001b[39m\u001b[33mCSI22\u001b[39m\u001b[33m'\u001b[39m,\u001b[33m'\u001b[39m\u001b[33mCSI23\u001b[39m\u001b[33m'\u001b[39m,\u001b[33m'\u001b[39m\u001b[33mCSI24\u001b[39m\u001b[33m'\u001b[39m,\u001b[33m'\u001b[39m\u001b[33mCSI25\u001b[39m\u001b[33m'\u001b[39m]]\n\u001b[32m---> \u001b[39m\u001b[32m10\u001b[39m csi_tfm = \u001b[43mcsi_question\u001b[49m[\u001b[33m'\u001b[39m\u001b[33mquestion\u001b[39m\u001b[33m'\u001b[39m] + csi_keys[\u001b[33m'\u001b[39m\u001b[33moption\u001b[39m\u001b[33m'\u001b[39m]\n\u001b[32m     11\u001b[39m csi_tfm\n",
      "\u001b[31mNameError\u001b[39m: name 'csi_question' is not defined"
     ]
    }
   ],
   "source": [
    "import pandas as pd\n",
    "import matplotlib.pyplot as plt\n",
    "\n",
    "# Read in fibromyalgia questionaire data\n",
    "fibro_df = pd.read_csv('data/fibro_dataset.csv')\n",
    "\n",
    "# Create CSI dataset from fibro_dataset.csv\n",
    "csi_data = fibro_df[['Group (0 = Control, 1 = Fibromyalgia)','SEX (0 = Male, 1 = Female)','Age','SES','CSI1','CSI2','CSI3','CSI4','CSI5','CSI6','CSI7','CSI8','CSI9','CSI10','CSI11','CSI12','CSI13','CSI14','CSI15','CSI16','CSI17','CSI18','CSI19','CSI20','CSI21','CSI22','CSI23','CSI24','CSI25']]\n"
   ]
  },
  {
   "cell_type": "markdown",
   "id": "a71c38ce",
   "metadata": {},
   "source": [
    "Assessing the Central Sensitization Inventory answers."
   ]
  },
  {
   "cell_type": "code",
   "execution_count": 55,
   "id": "327e6879",
   "metadata": {},
   "outputs": [
    {
     "data": {
      "text/plain": [
       "0                                      LightNever\n",
       "1                                    SoundsRarely\n",
       "2                                 SmellsSometimes\n",
       "3                                      TasteOften\n",
       "4     Tactile stimuli (touch clothing etc.)Always\n",
       "5                                             NaN\n",
       "6                                             NaN\n",
       "7                                             NaN\n",
       "8                                             NaN\n",
       "9                                             NaN\n",
       "10                                            NaN\n",
       "11                                            NaN\n",
       "12                                            NaN\n",
       "13                                            NaN\n",
       "14                                            NaN\n",
       "15                                            NaN\n",
       "dtype: object"
      ]
     },
     "execution_count": 55,
     "metadata": {},
     "output_type": "execute_result"
    }
   ],
   "source": [
    "csi_questions = pd.read_csv('data/csi/csi_questions.csv')\n",
    "csi_questions = pd.read_csv('data/spsq/spsq_questions.csv')\n",
    "\n",
    "csi_keys = pd.read_csv('data/csi/csi_keys.csv')\n",
    "spsq_keys = pd.read_csv('data/spsq/spsq_keys.csv')\n",
    "\n",
    "csi_cat = list(csi_keys['option'])\n",
    "spsq_cat = list(spsq_keys['option'])\n",
    "spsq_cat\n",
    "\n",
    "csi_answerset = csi_questions['question'] + csi_keys['option']\n",
    "csi_answerset"
   ]
  },
  {
   "cell_type": "code",
   "execution_count": 50,
   "id": "52b5f8d0",
   "metadata": {},
   "outputs": [
    {
     "data": {
      "text/html": [
       "<div>\n",
       "<style scoped>\n",
       "    .dataframe tbody tr th:only-of-type {\n",
       "        vertical-align: middle;\n",
       "    }\n",
       "\n",
       "    .dataframe tbody tr th {\n",
       "        vertical-align: top;\n",
       "    }\n",
       "\n",
       "    .dataframe thead th {\n",
       "        text-align: right;\n",
       "    }\n",
       "</style>\n",
       "<table border=\"1\" class=\"dataframe\">\n",
       "  <thead>\n",
       "    <tr style=\"text-align: right;\">\n",
       "      <th></th>\n",
       "      <th>item</th>\n",
       "      <th>question</th>\n",
       "    </tr>\n",
       "  </thead>\n",
       "  <tbody>\n",
       "    <tr>\n",
       "      <th>0</th>\n",
       "      <td>A1</td>\n",
       "      <td>Light</td>\n",
       "    </tr>\n",
       "    <tr>\n",
       "      <th>1</th>\n",
       "      <td>A2</td>\n",
       "      <td>Sounds</td>\n",
       "    </tr>\n",
       "    <tr>\n",
       "      <th>2</th>\n",
       "      <td>A3</td>\n",
       "      <td>Smells</td>\n",
       "    </tr>\n",
       "    <tr>\n",
       "      <th>3</th>\n",
       "      <td>A4</td>\n",
       "      <td>Taste</td>\n",
       "    </tr>\n",
       "    <tr>\n",
       "      <th>4</th>\n",
       "      <td>A5</td>\n",
       "      <td>Tactile stimuli (touch clothing etc.)</td>\n",
       "    </tr>\n",
       "    <tr>\n",
       "      <th>5</th>\n",
       "      <td>A6</td>\n",
       "      <td>Hunger</td>\n",
       "    </tr>\n",
       "    <tr>\n",
       "      <th>6</th>\n",
       "      <td>A7</td>\n",
       "      <td>Heat</td>\n",
       "    </tr>\n",
       "    <tr>\n",
       "      <th>7</th>\n",
       "      <td>A8</td>\n",
       "      <td>Cold</td>\n",
       "    </tr>\n",
       "    <tr>\n",
       "      <th>8</th>\n",
       "      <td>B1</td>\n",
       "      <td>Your emotions</td>\n",
       "    </tr>\n",
       "    <tr>\n",
       "      <th>9</th>\n",
       "      <td>B2</td>\n",
       "      <td>Emotions of other people</td>\n",
       "    </tr>\n",
       "    <tr>\n",
       "      <th>10</th>\n",
       "      <td>B3</td>\n",
       "      <td>Sudden changes</td>\n",
       "    </tr>\n",
       "    <tr>\n",
       "      <th>11</th>\n",
       "      <td>B4</td>\n",
       "      <td>Your inner world</td>\n",
       "    </tr>\n",
       "    <tr>\n",
       "      <th>12</th>\n",
       "      <td>B5</td>\n",
       "      <td>The need to do many things at once</td>\n",
       "    </tr>\n",
       "    <tr>\n",
       "      <th>13</th>\n",
       "      <td>B6</td>\n",
       "      <td>Criticism</td>\n",
       "    </tr>\n",
       "    <tr>\n",
       "      <th>14</th>\n",
       "      <td>B7</td>\n",
       "      <td>The need for harmony in life</td>\n",
       "    </tr>\n",
       "    <tr>\n",
       "      <th>15</th>\n",
       "      <td>B8</td>\n",
       "      <td>The need to make decisions</td>\n",
       "    </tr>\n",
       "  </tbody>\n",
       "</table>\n",
       "</div>"
      ],
      "text/plain": [
       "   item                               question\n",
       "0    A1                                  Light\n",
       "1    A2                                 Sounds\n",
       "2    A3                                 Smells\n",
       "3    A4                                  Taste\n",
       "4    A5  Tactile stimuli (touch clothing etc.)\n",
       "5    A6                                 Hunger\n",
       "6    A7                                   Heat\n",
       "7    A8                                   Cold\n",
       "8    B1                          Your emotions\n",
       "9    B2               Emotions of other people\n",
       "10   B3                         Sudden changes\n",
       "11   B4                       Your inner world\n",
       "12   B5     The need to do many things at once\n",
       "13   B6                              Criticism\n",
       "14   B7           The need for harmony in life\n",
       "15   B8             The need to make decisions"
      ]
     },
     "execution_count": 50,
     "metadata": {},
     "output_type": "execute_result"
    }
   ],
   "source": [
    "csi_questions"
   ]
  },
  {
   "cell_type": "code",
   "execution_count": null,
   "id": "c99d3504",
   "metadata": {},
   "outputs": [],
   "source": [
    "fibro_df = fibro_df[]"
   ]
  },
  {
   "cell_type": "code",
   "execution_count": null,
   "id": "82c759ad",
   "metadata": {},
   "outputs": [],
   "source": [
    "\n",
    "categories = []"
   ]
  },
  {
   "cell_type": "markdown",
   "id": "d5317ee2",
   "metadata": {},
   "source": [
    "Fields that include CSI and SQPQ represent answers to questions from the Central Sensitization Inventory (CSI) and Sensory Processing Sensitivity Questionnaire respectively."
   ]
  }
 ],
 "metadata": {
  "kernelspec": {
   "display_name": ".venv",
   "language": "python",
   "name": "python3"
  },
  "language_info": {
   "codemirror_mode": {
    "name": "ipython",
    "version": 3
   },
   "file_extension": ".py",
   "mimetype": "text/x-python",
   "name": "python",
   "nbconvert_exporter": "python",
   "pygments_lexer": "ipython3",
   "version": "3.12.3"
  }
 },
 "nbformat": 4,
 "nbformat_minor": 5
}
